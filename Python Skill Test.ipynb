{
 "cells": [
  {
   "cell_type": "code",
   "execution_count": 1,
   "metadata": {
    "collapsed": false
   },
   "outputs": [],
   "source": [
    "import pandas as pd\n",
    "%matplotlib inline\n",
    "Train=pd.read_csv('Workshop/train.csv')\n",
    "Test=pd.read_csv('Workshop/Test.csv')"
   ]
  },
  {
   "cell_type": "code",
   "execution_count": 2,
   "metadata": {
    "collapsed": false
   },
   "outputs": [
    {
     "data": {
      "text/html": [
       "<div>\n",
       "<table border=\"1\" class=\"dataframe\">\n",
       "  <thead>\n",
       "    <tr style=\"text-align: right;\">\n",
       "      <th></th>\n",
       "      <th>ID</th>\n",
       "      <th>Age</th>\n",
       "      <th>Workclass</th>\n",
       "      <th>Education</th>\n",
       "      <th>Marital.Status</th>\n",
       "      <th>Occupation</th>\n",
       "      <th>Relationship</th>\n",
       "      <th>Race</th>\n",
       "      <th>Sex</th>\n",
       "      <th>Hours.Per.Week</th>\n",
       "      <th>Native.Country</th>\n",
       "      <th>Income.Group</th>\n",
       "    </tr>\n",
       "  </thead>\n",
       "  <tbody>\n",
       "    <tr>\n",
       "      <th>0</th>\n",
       "      <td>1</td>\n",
       "      <td>39</td>\n",
       "      <td>State-gov</td>\n",
       "      <td>Bachelors</td>\n",
       "      <td>Never-married</td>\n",
       "      <td>Adm-clerical</td>\n",
       "      <td>Not-in-family</td>\n",
       "      <td>White</td>\n",
       "      <td>Male</td>\n",
       "      <td>40</td>\n",
       "      <td>United-States</td>\n",
       "      <td>&lt;=50K</td>\n",
       "    </tr>\n",
       "    <tr>\n",
       "      <th>1</th>\n",
       "      <td>2</td>\n",
       "      <td>50</td>\n",
       "      <td>Self-emp-not-inc</td>\n",
       "      <td>Bachelors</td>\n",
       "      <td>Married-civ-spouse</td>\n",
       "      <td>Exec-managerial</td>\n",
       "      <td>Husband</td>\n",
       "      <td>White</td>\n",
       "      <td>Male</td>\n",
       "      <td>13</td>\n",
       "      <td>United-States</td>\n",
       "      <td>&lt;=50K</td>\n",
       "    </tr>\n",
       "    <tr>\n",
       "      <th>2</th>\n",
       "      <td>3</td>\n",
       "      <td>38</td>\n",
       "      <td>Private</td>\n",
       "      <td>HS-grad</td>\n",
       "      <td>Divorced</td>\n",
       "      <td>Handlers-cleaners</td>\n",
       "      <td>Not-in-family</td>\n",
       "      <td>White</td>\n",
       "      <td>Male</td>\n",
       "      <td>40</td>\n",
       "      <td>United-States</td>\n",
       "      <td>&lt;=50K</td>\n",
       "    </tr>\n",
       "    <tr>\n",
       "      <th>3</th>\n",
       "      <td>4</td>\n",
       "      <td>53</td>\n",
       "      <td>Private</td>\n",
       "      <td>11th</td>\n",
       "      <td>Married-civ-spouse</td>\n",
       "      <td>Handlers-cleaners</td>\n",
       "      <td>Husband</td>\n",
       "      <td>Black</td>\n",
       "      <td>Male</td>\n",
       "      <td>40</td>\n",
       "      <td>United-States</td>\n",
       "      <td>&lt;=50K</td>\n",
       "    </tr>\n",
       "    <tr>\n",
       "      <th>4</th>\n",
       "      <td>5</td>\n",
       "      <td>28</td>\n",
       "      <td>Private</td>\n",
       "      <td>Bachelors</td>\n",
       "      <td>Married-civ-spouse</td>\n",
       "      <td>Prof-specialty</td>\n",
       "      <td>Wife</td>\n",
       "      <td>Black</td>\n",
       "      <td>Female</td>\n",
       "      <td>40</td>\n",
       "      <td>Cuba</td>\n",
       "      <td>&lt;=50K</td>\n",
       "    </tr>\n",
       "  </tbody>\n",
       "</table>\n",
       "</div>"
      ],
      "text/plain": [
       "   ID  Age         Workclass  Education      Marital.Status  \\\n",
       "0   1   39         State-gov  Bachelors       Never-married   \n",
       "1   2   50  Self-emp-not-inc  Bachelors  Married-civ-spouse   \n",
       "2   3   38           Private    HS-grad            Divorced   \n",
       "3   4   53           Private       11th  Married-civ-spouse   \n",
       "4   5   28           Private  Bachelors  Married-civ-spouse   \n",
       "\n",
       "          Occupation   Relationship   Race     Sex  Hours.Per.Week  \\\n",
       "0       Adm-clerical  Not-in-family  White    Male              40   \n",
       "1    Exec-managerial        Husband  White    Male              13   \n",
       "2  Handlers-cleaners  Not-in-family  White    Male              40   \n",
       "3  Handlers-cleaners        Husband  Black    Male              40   \n",
       "4     Prof-specialty           Wife  Black  Female              40   \n",
       "\n",
       "  Native.Country Income.Group  \n",
       "0  United-States        <=50K  \n",
       "1  United-States        <=50K  \n",
       "2  United-States        <=50K  \n",
       "3  United-States        <=50K  \n",
       "4           Cuba        <=50K  "
      ]
     },
     "execution_count": 2,
     "metadata": {},
     "output_type": "execute_result"
    }
   ],
   "source": [
    "Train.head()"
   ]
  },
  {
   "cell_type": "code",
   "execution_count": 3,
   "metadata": {
    "collapsed": false
   },
   "outputs": [
    {
     "data": {
      "text/html": [
       "<div>\n",
       "<table border=\"1\" class=\"dataframe\">\n",
       "  <thead>\n",
       "    <tr style=\"text-align: right;\">\n",
       "      <th></th>\n",
       "      <th>Loan_ID</th>\n",
       "      <th>Gender</th>\n",
       "      <th>Married</th>\n",
       "      <th>Dependents</th>\n",
       "      <th>Education</th>\n",
       "      <th>Property_Area</th>\n",
       "      <th>Age</th>\n",
       "      <th>ApplicationID</th>\n",
       "      <th>Loan_Amount</th>\n",
       "      <th>Name</th>\n",
       "      <th>Datetime</th>\n",
       "      <th>Loan_Status</th>\n",
       "    </tr>\n",
       "  </thead>\n",
       "  <tbody>\n",
       "    <tr>\n",
       "      <th>0</th>\n",
       "      <td>LP001002</td>\n",
       "      <td>Female</td>\n",
       "      <td>No</td>\n",
       "      <td>0</td>\n",
       "      <td>Graduate</td>\n",
       "      <td>Urban</td>\n",
       "      <td>39</td>\n",
       "      <td>14110-AED</td>\n",
       "      <td>25000</td>\n",
       "      <td>Mr.Abraham</td>\n",
       "      <td>2013-02-21 06:35:45.658505</td>\n",
       "      <td>Y</td>\n",
       "    </tr>\n",
       "    <tr>\n",
       "      <th>1</th>\n",
       "      <td>LP001003</td>\n",
       "      <td>Male</td>\n",
       "      <td>Yes</td>\n",
       "      <td>1</td>\n",
       "      <td>Graduate</td>\n",
       "      <td>Semiurban</td>\n",
       "      <td>50</td>\n",
       "      <td>12117-DEF</td>\n",
       "      <td>50000</td>\n",
       "      <td>Mrs.Kayal</td>\n",
       "      <td>2013-02-21 06:35:45.659381</td>\n",
       "      <td>N</td>\n",
       "    </tr>\n",
       "    <tr>\n",
       "      <th>2</th>\n",
       "      <td>LP001005</td>\n",
       "      <td>NaN</td>\n",
       "      <td>NaN</td>\n",
       "      <td>NaN</td>\n",
       "      <td>NaN</td>\n",
       "      <td>NaN</td>\n",
       "      <td>38</td>\n",
       "      <td>GHI-13415</td>\n",
       "      <td>60000</td>\n",
       "      <td>Mr.Lincoln</td>\n",
       "      <td>2013-02-21 11:35:45.659396</td>\n",
       "      <td>Y</td>\n",
       "    </tr>\n",
       "    <tr>\n",
       "      <th>3</th>\n",
       "      <td>LP001006</td>\n",
       "      <td>Female</td>\n",
       "      <td>Yes</td>\n",
       "      <td>0</td>\n",
       "      <td>Not Graduate</td>\n",
       "      <td>Rural</td>\n",
       "      <td>43</td>\n",
       "      <td>TQR-14561</td>\n",
       "      <td>NaN</td>\n",
       "      <td>Mrs.MSR</td>\n",
       "      <td>2013-02-21 11:35:45.659396</td>\n",
       "      <td>Y</td>\n",
       "    </tr>\n",
       "    <tr>\n",
       "      <th>4</th>\n",
       "      <td>LP001008</td>\n",
       "      <td>Male</td>\n",
       "      <td>No</td>\n",
       "      <td>0</td>\n",
       "      <td>Graduate</td>\n",
       "      <td>Semiurban</td>\n",
       "      <td>29</td>\n",
       "      <td>EFG-13211</td>\n",
       "      <td>80000</td>\n",
       "      <td>Mr.Vinay</td>\n",
       "      <td>2013-02-21 06:35:45.658505</td>\n",
       "      <td>Y</td>\n",
       "    </tr>\n",
       "  </tbody>\n",
       "</table>\n",
       "</div>"
      ],
      "text/plain": [
       "    Loan_ID  Gender Married  Dependents     Education Property_Area  Age  \\\n",
       "0  LP001002  Female      No           0      Graduate         Urban   39   \n",
       "1  LP001003    Male     Yes           1      Graduate     Semiurban   50   \n",
       "2  LP001005     NaN     NaN         NaN           NaN           NaN   38   \n",
       "3  LP001006  Female     Yes           0  Not Graduate         Rural   43   \n",
       "4  LP001008    Male      No           0      Graduate     Semiurban   29   \n",
       "\n",
       "  ApplicationID  Loan_Amount        Name                    Datetime  \\\n",
       "0     14110-AED        25000  Mr.Abraham  2013-02-21 06:35:45.658505   \n",
       "1     12117-DEF        50000   Mrs.Kayal  2013-02-21 06:35:45.659381   \n",
       "2     GHI-13415        60000  Mr.Lincoln  2013-02-21 11:35:45.659396   \n",
       "3     TQR-14561          NaN     Mrs.MSR  2013-02-21 11:35:45.659396   \n",
       "4     EFG-13211        80000    Mr.Vinay  2013-02-21 06:35:45.658505   \n",
       "\n",
       "  Loan_Status  \n",
       "0           Y  \n",
       "1           N  \n",
       "2           Y  \n",
       "3           Y  \n",
       "4           Y  "
      ]
     },
     "execution_count": 3,
     "metadata": {},
     "output_type": "execute_result"
    }
   ],
   "source": [
    "Test.head()"
   ]
  },
  {
   "cell_type": "code",
   "execution_count": 4,
   "metadata": {
    "collapsed": false
   },
   "outputs": [
    {
     "data": {
      "text/html": [
       "<div>\n",
       "<table border=\"1\" class=\"dataframe\">\n",
       "  <thead>\n",
       "    <tr style=\"text-align: right;\">\n",
       "      <th></th>\n",
       "      <th>Loan_ID</th>\n",
       "      <th>Gender</th>\n",
       "      <th>Married</th>\n",
       "      <th>Dependents</th>\n",
       "      <th>Education</th>\n",
       "      <th>Property_Area</th>\n",
       "      <th>Age</th>\n",
       "      <th>ApplicationID</th>\n",
       "      <th>Loan_Amount</th>\n",
       "      <th>Name</th>\n",
       "      <th>Datetime</th>\n",
       "      <th>Loan_Status</th>\n",
       "    </tr>\n",
       "  </thead>\n",
       "  <tbody>\n",
       "    <tr>\n",
       "      <th>0</th>\n",
       "      <td>LP001002</td>\n",
       "      <td>Female</td>\n",
       "      <td>No</td>\n",
       "      <td>0</td>\n",
       "      <td>Graduate</td>\n",
       "      <td>Urban</td>\n",
       "      <td>39</td>\n",
       "      <td>14110-AED</td>\n",
       "      <td>25000</td>\n",
       "      <td>Mr.Abraham</td>\n",
       "      <td>2013-02-21 06:35:45.658505</td>\n",
       "      <td>Y</td>\n",
       "    </tr>\n",
       "    <tr>\n",
       "      <th>1</th>\n",
       "      <td>LP001003</td>\n",
       "      <td>Male</td>\n",
       "      <td>Yes</td>\n",
       "      <td>1</td>\n",
       "      <td>Graduate</td>\n",
       "      <td>Semiurban</td>\n",
       "      <td>50</td>\n",
       "      <td>12117-DEF</td>\n",
       "      <td>50000</td>\n",
       "      <td>Mrs.Kayal</td>\n",
       "      <td>2013-02-21 06:35:45.659381</td>\n",
       "      <td>N</td>\n",
       "    </tr>\n",
       "    <tr>\n",
       "      <th>3</th>\n",
       "      <td>LP001006</td>\n",
       "      <td>Female</td>\n",
       "      <td>Yes</td>\n",
       "      <td>0</td>\n",
       "      <td>Not Graduate</td>\n",
       "      <td>Rural</td>\n",
       "      <td>43</td>\n",
       "      <td>TQR-14561</td>\n",
       "      <td>NaN</td>\n",
       "      <td>Mrs.MSR</td>\n",
       "      <td>2013-02-21 11:35:45.659396</td>\n",
       "      <td>Y</td>\n",
       "    </tr>\n",
       "    <tr>\n",
       "      <th>4</th>\n",
       "      <td>LP001008</td>\n",
       "      <td>Male</td>\n",
       "      <td>No</td>\n",
       "      <td>0</td>\n",
       "      <td>Graduate</td>\n",
       "      <td>Semiurban</td>\n",
       "      <td>29</td>\n",
       "      <td>EFG-13211</td>\n",
       "      <td>80000</td>\n",
       "      <td>Mr.Vinay</td>\n",
       "      <td>2013-02-21 06:35:45.658505</td>\n",
       "      <td>Y</td>\n",
       "    </tr>\n",
       "  </tbody>\n",
       "</table>\n",
       "</div>"
      ],
      "text/plain": [
       "    Loan_ID  Gender Married  Dependents     Education Property_Area  Age  \\\n",
       "0  LP001002  Female      No           0      Graduate         Urban   39   \n",
       "1  LP001003    Male     Yes           1      Graduate     Semiurban   50   \n",
       "3  LP001006  Female     Yes           0  Not Graduate         Rural   43   \n",
       "4  LP001008    Male      No           0      Graduate     Semiurban   29   \n",
       "\n",
       "  ApplicationID  Loan_Amount        Name                    Datetime  \\\n",
       "0     14110-AED        25000  Mr.Abraham  2013-02-21 06:35:45.658505   \n",
       "1     12117-DEF        50000   Mrs.Kayal  2013-02-21 06:35:45.659381   \n",
       "3     TQR-14561          NaN     Mrs.MSR  2013-02-21 11:35:45.659396   \n",
       "4     EFG-13211        80000    Mr.Vinay  2013-02-21 06:35:45.658505   \n",
       "\n",
       "  Loan_Status  \n",
       "0           Y  \n",
       "1           N  \n",
       "3           Y  \n",
       "4           Y  "
      ]
     },
     "execution_count": 4,
     "metadata": {},
     "output_type": "execute_result"
    }
   ],
   "source": [
    "# Create a dataset after dropping rows with more than 4 NA values\n",
    "temp = Test.dropna(axis=0, how='any', thresh=Test.shape[1] - 4)\n",
    "temp.head()"
   ]
  },
  {
   "cell_type": "code",
   "execution_count": 5,
   "metadata": {
    "collapsed": false
   },
   "outputs": [],
   "source": [
    "# Change name of Urban and semiurban to city and Rural to Village\n",
    "turn_dict = {'Urban': 'City', 'Semiurban': 'City', 'Rural': 'Village'}\n",
    "Test.loc[:, 'Property_Area'] = Test.Property_Area.replace(turn_dict)"
   ]
  },
  {
   "cell_type": "code",
   "execution_count": 6,
   "metadata": {
    "collapsed": false
   },
   "outputs": [
    {
     "data": {
      "text/plain": [
       "City       3\n",
       "Village    1\n",
       "dtype: int64"
      ]
     },
     "execution_count": 6,
     "metadata": {},
     "output_type": "execute_result"
    }
   ],
   "source": [
    "Test['Property_Area'].value_counts()"
   ]
  },
  {
   "cell_type": "code",
   "execution_count": 7,
   "metadata": {
    "collapsed": false
   },
   "outputs": [
    {
     "data": {
      "text/plain": [
       "20.0"
      ]
     },
     "execution_count": 7,
     "metadata": {},
     "output_type": "execute_result"
    }
   ],
   "source": [
    "# Percentage of males who are Married\n",
    "(Test.loc[(Test.Gender == 'Male') & (Test.Married == 'Yes')].shape[0] / float(Test.shape[0]))*100"
   ]
  },
  {
   "cell_type": "code",
   "execution_count": 8,
   "metadata": {
    "collapsed": false
   },
   "outputs": [
    {
     "data": {
      "text/plain": [
       "{'ApplicationID',\n",
       " 'Datetime',\n",
       " 'Dependents',\n",
       " 'Gender',\n",
       " 'Loan_Amount',\n",
       " 'Loan_ID',\n",
       " 'Loan_Status',\n",
       " 'Married',\n",
       " 'Name',\n",
       " 'Property_Area'}"
      ]
     },
     "execution_count": 8,
     "metadata": {},
     "output_type": "execute_result"
    }
   ],
   "source": [
    "# Columns that are available in test but not in train dataset\n",
    "set(Test.columns).difference(set(Train.columns))"
   ]
  },
  {
   "cell_type": "code",
   "execution_count": 9,
   "metadata": {
    "collapsed": false
   },
   "outputs": [
    {
     "data": {
      "text/plain": [
       "True"
      ]
     },
     "execution_count": 9,
     "metadata": {},
     "output_type": "execute_result"
    }
   ],
   "source": [
    "# If there are unique values in Age between Train and Test Dataset\n",
    "set(Test.Age.unique()).issubset(set(Train.Age.unique()))"
   ]
  },
  {
   "cell_type": "code",
   "execution_count": 10,
   "metadata": {
    "collapsed": false
   },
   "outputs": [
    {
     "data": {
      "text/plain": [
       "0      AED\n",
       "1      DEF\n",
       "2    13415\n",
       "3    14561\n",
       "4    13211\n",
       "dtype: object"
      ]
     },
     "execution_count": 10,
     "metadata": {},
     "output_type": "execute_result"
    }
   ],
   "source": [
    "# Split the first string from application ID\n",
    "Test['ApplicationID'].str.split('-').str[-1]"
   ]
  },
  {
   "cell_type": "code",
   "execution_count": 11,
   "metadata": {
    "collapsed": false
   },
   "outputs": [
    {
     "data": {
      "text/html": [
       "<div>\n",
       "<table border=\"1\" class=\"dataframe\">\n",
       "  <thead>\n",
       "    <tr style=\"text-align: right;\">\n",
       "      <th></th>\n",
       "      <th>Loan_ID</th>\n",
       "      <th>Gender</th>\n",
       "      <th>Married</th>\n",
       "      <th>Dependents</th>\n",
       "      <th>Education</th>\n",
       "      <th>Property_Area</th>\n",
       "      <th>Age</th>\n",
       "      <th>ApplicationID</th>\n",
       "      <th>Loan_Amount</th>\n",
       "      <th>Name</th>\n",
       "      <th>Datetime</th>\n",
       "      <th>Loan_Status</th>\n",
       "    </tr>\n",
       "  </thead>\n",
       "  <tbody>\n",
       "    <tr>\n",
       "      <th>0</th>\n",
       "      <td>LP001002</td>\n",
       "      <td>Female</td>\n",
       "      <td>No</td>\n",
       "      <td>0</td>\n",
       "      <td>Graduate</td>\n",
       "      <td>City</td>\n",
       "      <td>39</td>\n",
       "      <td>14110-AED</td>\n",
       "      <td>25000</td>\n",
       "      <td>Mr.Abraham</td>\n",
       "      <td>2013-02-21 06:35:45.658505</td>\n",
       "      <td>Y</td>\n",
       "    </tr>\n",
       "    <tr>\n",
       "      <th>1</th>\n",
       "      <td>LP001003</td>\n",
       "      <td>Male</td>\n",
       "      <td>Yes</td>\n",
       "      <td>1</td>\n",
       "      <td>Graduate</td>\n",
       "      <td>City</td>\n",
       "      <td>50</td>\n",
       "      <td>12117-DEF</td>\n",
       "      <td>50000</td>\n",
       "      <td>Mrs.Kayal</td>\n",
       "      <td>2013-02-21 06:35:45.659381</td>\n",
       "      <td>N</td>\n",
       "    </tr>\n",
       "    <tr>\n",
       "      <th>2</th>\n",
       "      <td>LP001005</td>\n",
       "      <td>NaN</td>\n",
       "      <td>NaN</td>\n",
       "      <td>NaN</td>\n",
       "      <td>NaN</td>\n",
       "      <td>NaN</td>\n",
       "      <td>38</td>\n",
       "      <td>GHI-13415</td>\n",
       "      <td>60000</td>\n",
       "      <td>Mr.Lincoln</td>\n",
       "      <td>2013-02-21 11:35:45.659396</td>\n",
       "      <td>Y</td>\n",
       "    </tr>\n",
       "    <tr>\n",
       "      <th>3</th>\n",
       "      <td>LP001006</td>\n",
       "      <td>Female</td>\n",
       "      <td>Yes</td>\n",
       "      <td>0</td>\n",
       "      <td>Not Graduate</td>\n",
       "      <td>Village</td>\n",
       "      <td>43</td>\n",
       "      <td>TQR-14561</td>\n",
       "      <td>25000</td>\n",
       "      <td>Mrs.MSR</td>\n",
       "      <td>2013-02-21 11:35:45.659396</td>\n",
       "      <td>Y</td>\n",
       "    </tr>\n",
       "    <tr>\n",
       "      <th>4</th>\n",
       "      <td>LP001008</td>\n",
       "      <td>Male</td>\n",
       "      <td>No</td>\n",
       "      <td>0</td>\n",
       "      <td>Graduate</td>\n",
       "      <td>City</td>\n",
       "      <td>29</td>\n",
       "      <td>EFG-13211</td>\n",
       "      <td>80000</td>\n",
       "      <td>Mr.Vinay</td>\n",
       "      <td>2013-02-21 06:35:45.658505</td>\n",
       "      <td>Y</td>\n",
       "    </tr>\n",
       "  </tbody>\n",
       "</table>\n",
       "</div>"
      ],
      "text/plain": [
       "    Loan_ID  Gender Married  Dependents     Education Property_Area  Age  \\\n",
       "0  LP001002  Female      No           0      Graduate          City   39   \n",
       "1  LP001003    Male     Yes           1      Graduate          City   50   \n",
       "2  LP001005     NaN     NaN         NaN           NaN           NaN   38   \n",
       "3  LP001006  Female     Yes           0  Not Graduate       Village   43   \n",
       "4  LP001008    Male      No           0      Graduate          City   29   \n",
       "\n",
       "  ApplicationID  Loan_Amount        Name                    Datetime  \\\n",
       "0     14110-AED        25000  Mr.Abraham  2013-02-21 06:35:45.658505   \n",
       "1     12117-DEF        50000   Mrs.Kayal  2013-02-21 06:35:45.659381   \n",
       "2     GHI-13415        60000  Mr.Lincoln  2013-02-21 11:35:45.659396   \n",
       "3     TQR-14561        25000     Mrs.MSR  2013-02-21 11:35:45.659396   \n",
       "4     EFG-13211        80000    Mr.Vinay  2013-02-21 06:35:45.658505   \n",
       "\n",
       "  Loan_Status  \n",
       "0           Y  \n",
       "1           N  \n",
       "2           Y  \n",
       "3           Y  \n",
       "4           Y  "
      ]
     },
     "execution_count": 11,
     "metadata": {},
     "output_type": "execute_result"
    }
   ],
   "source": [
    "# Fill NA values in Loan Amount with average values of Loan Amount for corresponding gender\n",
    "Test['Loan_Amount'] = Test.groupby('Gender').transform(lambda x: x.fillna(x.mean())).Loan_Amount\n",
    "Test.head()"
   ]
  },
  {
   "cell_type": "code",
   "execution_count": 12,
   "metadata": {
    "collapsed": false
   },
   "outputs": [
    {
     "data": {
      "text/plain": [
       "1"
      ]
     },
     "execution_count": 12,
     "metadata": {},
     "output_type": "execute_result"
    }
   ],
   "source": [
    "#Number of columns with Loan status Y and gender Male\n",
    "Test.loc[(Test.Loan_Status == 'Y') & (Test.Gender == 'Male')].shape[0]"
   ]
  },
  {
   "cell_type": "code",
   "execution_count": 13,
   "metadata": {
    "collapsed": false
   },
   "outputs": [
    {
     "data": {
      "text/plain": [
       "0"
      ]
     },
     "execution_count": 13,
     "metadata": {},
     "output_type": "execute_result"
    }
   ],
   "source": [
    "# Number of values with Mr in Name\n",
    "(Test['Name'].str.find('Mrs.')>0).sum()"
   ]
  },
  {
   "cell_type": "code",
   "execution_count": 14,
   "metadata": {
    "collapsed": false
   },
   "outputs": [
    {
     "data": {
      "text/plain": [
       "Loan_ID           object\n",
       "Gender            object\n",
       "Married           object\n",
       "Dependents       float64\n",
       "Education         object\n",
       "Property_Area     object\n",
       "Age                int64\n",
       "ApplicationID     object\n",
       "Loan_Amount      float64\n",
       "Name              object\n",
       "Datetime          object\n",
       "Loan_Status       object\n",
       "dtype: object"
      ]
     },
     "execution_count": 14,
     "metadata": {},
     "output_type": "execute_result"
    }
   ],
   "source": [
    "Test.dtypes"
   ]
  },
  {
   "cell_type": "code",
   "execution_count": 15,
   "metadata": {
    "collapsed": false
   },
   "outputs": [],
   "source": [
    "#convert datatype to category\n",
    "Test['Dependents'] = Test['Dependents'].astype('category')"
   ]
  },
  {
   "cell_type": "code",
   "execution_count": 16,
   "metadata": {
    "collapsed": false
   },
   "outputs": [
    {
     "data": {
      "text/plain": [
       "Loan_ID            object\n",
       "Gender             object\n",
       "Married            object\n",
       "Dependents       category\n",
       "Education          object\n",
       "Property_Area      object\n",
       "Age                 int64\n",
       "ApplicationID      object\n",
       "Loan_Amount       float64\n",
       "Name               object\n",
       "Datetime           object\n",
       "Loan_Status        object\n",
       "dtype: object"
      ]
     },
     "execution_count": 16,
     "metadata": {},
     "output_type": "execute_result"
    }
   ],
   "source": [
    "Test.dtypes"
   ]
  },
  {
   "cell_type": "code",
   "execution_count": 17,
   "metadata": {
    "collapsed": false
   },
   "outputs": [
    {
     "data": {
      "text/plain": [
       "0    False\n",
       "1     True\n",
       "2      NaN\n",
       "3    False\n",
       "4     True\n",
       "Name: Gender, dtype: object"
      ]
     },
     "execution_count": 17,
     "metadata": {},
     "output_type": "execute_result"
    }
   ],
   "source": [
    "#Gender starting with Capital M\n",
    "Test.Gender.str.startswith('M')"
   ]
  },
  {
   "cell_type": "code",
   "execution_count": 18,
   "metadata": {
    "collapsed": false
   },
   "outputs": [],
   "source": [
    "# Relationship percentage \n",
    "Train['Relationship_Percentage'] = Train.Relationship.map(Train.Relationship.value_counts()/Train.shape[0])"
   ]
  },
  {
   "cell_type": "code",
   "execution_count": 19,
   "metadata": {
    "collapsed": false
   },
   "outputs": [
    {
     "data": {
      "text/html": [
       "<div>\n",
       "<table border=\"1\" class=\"dataframe\">\n",
       "  <thead>\n",
       "    <tr style=\"text-align: right;\">\n",
       "      <th></th>\n",
       "      <th>ID</th>\n",
       "      <th>Age</th>\n",
       "      <th>Workclass</th>\n",
       "      <th>Education</th>\n",
       "      <th>Marital.Status</th>\n",
       "      <th>Occupation</th>\n",
       "      <th>Relationship</th>\n",
       "      <th>Race</th>\n",
       "      <th>Sex</th>\n",
       "      <th>Hours.Per.Week</th>\n",
       "      <th>Native.Country</th>\n",
       "      <th>Income.Group</th>\n",
       "      <th>Relationship_Percentage</th>\n",
       "    </tr>\n",
       "  </thead>\n",
       "  <tbody>\n",
       "    <tr>\n",
       "      <th>0</th>\n",
       "      <td>1</td>\n",
       "      <td>39</td>\n",
       "      <td>State-gov</td>\n",
       "      <td>Bachelors</td>\n",
       "      <td>Never-married</td>\n",
       "      <td>Adm-clerical</td>\n",
       "      <td>Not-in-family</td>\n",
       "      <td>White</td>\n",
       "      <td>Male</td>\n",
       "      <td>40</td>\n",
       "      <td>United-States</td>\n",
       "      <td>&lt;=50K</td>\n",
       "      <td>0.255060</td>\n",
       "    </tr>\n",
       "    <tr>\n",
       "      <th>1</th>\n",
       "      <td>2</td>\n",
       "      <td>50</td>\n",
       "      <td>Self-emp-not-inc</td>\n",
       "      <td>Bachelors</td>\n",
       "      <td>Married-civ-spouse</td>\n",
       "      <td>Exec-managerial</td>\n",
       "      <td>Husband</td>\n",
       "      <td>White</td>\n",
       "      <td>Male</td>\n",
       "      <td>13</td>\n",
       "      <td>United-States</td>\n",
       "      <td>&lt;=50K</td>\n",
       "      <td>0.405178</td>\n",
       "    </tr>\n",
       "    <tr>\n",
       "      <th>2</th>\n",
       "      <td>3</td>\n",
       "      <td>38</td>\n",
       "      <td>Private</td>\n",
       "      <td>HS-grad</td>\n",
       "      <td>Divorced</td>\n",
       "      <td>Handlers-cleaners</td>\n",
       "      <td>Not-in-family</td>\n",
       "      <td>White</td>\n",
       "      <td>Male</td>\n",
       "      <td>40</td>\n",
       "      <td>United-States</td>\n",
       "      <td>&lt;=50K</td>\n",
       "      <td>0.255060</td>\n",
       "    </tr>\n",
       "    <tr>\n",
       "      <th>3</th>\n",
       "      <td>4</td>\n",
       "      <td>53</td>\n",
       "      <td>Private</td>\n",
       "      <td>11th</td>\n",
       "      <td>Married-civ-spouse</td>\n",
       "      <td>Handlers-cleaners</td>\n",
       "      <td>Husband</td>\n",
       "      <td>Black</td>\n",
       "      <td>Male</td>\n",
       "      <td>40</td>\n",
       "      <td>United-States</td>\n",
       "      <td>&lt;=50K</td>\n",
       "      <td>0.405178</td>\n",
       "    </tr>\n",
       "    <tr>\n",
       "      <th>4</th>\n",
       "      <td>5</td>\n",
       "      <td>28</td>\n",
       "      <td>Private</td>\n",
       "      <td>Bachelors</td>\n",
       "      <td>Married-civ-spouse</td>\n",
       "      <td>Prof-specialty</td>\n",
       "      <td>Wife</td>\n",
       "      <td>Black</td>\n",
       "      <td>Female</td>\n",
       "      <td>40</td>\n",
       "      <td>Cuba</td>\n",
       "      <td>&lt;=50K</td>\n",
       "      <td>0.048156</td>\n",
       "    </tr>\n",
       "  </tbody>\n",
       "</table>\n",
       "</div>"
      ],
      "text/plain": [
       "   ID  Age         Workclass  Education      Marital.Status  \\\n",
       "0   1   39         State-gov  Bachelors       Never-married   \n",
       "1   2   50  Self-emp-not-inc  Bachelors  Married-civ-spouse   \n",
       "2   3   38           Private    HS-grad            Divorced   \n",
       "3   4   53           Private       11th  Married-civ-spouse   \n",
       "4   5   28           Private  Bachelors  Married-civ-spouse   \n",
       "\n",
       "          Occupation   Relationship   Race     Sex  Hours.Per.Week  \\\n",
       "0       Adm-clerical  Not-in-family  White    Male              40   \n",
       "1    Exec-managerial        Husband  White    Male              13   \n",
       "2  Handlers-cleaners  Not-in-family  White    Male              40   \n",
       "3  Handlers-cleaners        Husband  Black    Male              40   \n",
       "4     Prof-specialty           Wife  Black  Female              40   \n",
       "\n",
       "  Native.Country Income.Group  Relationship_Percentage  \n",
       "0  United-States        <=50K                 0.255060  \n",
       "1  United-States        <=50K                 0.405178  \n",
       "2  United-States        <=50K                 0.255060  \n",
       "3  United-States        <=50K                 0.405178  \n",
       "4           Cuba        <=50K                 0.048156  "
      ]
     },
     "execution_count": 19,
     "metadata": {},
     "output_type": "execute_result"
    }
   ],
   "source": [
    "Train.head()"
   ]
  },
  {
   "cell_type": "code",
   "execution_count": 20,
   "metadata": {
    "collapsed": false
   },
   "outputs": [],
   "source": [
    "Test['Date_time']=pd.to_datetime(Test['Datetime'],unit='s')"
   ]
  },
  {
   "cell_type": "code",
   "execution_count": 21,
   "metadata": {
    "collapsed": false
   },
   "outputs": [
    {
     "data": {
      "text/html": [
       "<div>\n",
       "<table border=\"1\" class=\"dataframe\">\n",
       "  <thead>\n",
       "    <tr style=\"text-align: right;\">\n",
       "      <th></th>\n",
       "      <th>Loan_ID</th>\n",
       "      <th>Gender</th>\n",
       "      <th>Married</th>\n",
       "      <th>Dependents</th>\n",
       "      <th>Education</th>\n",
       "      <th>Property_Area</th>\n",
       "      <th>Age</th>\n",
       "      <th>ApplicationID</th>\n",
       "      <th>Loan_Amount</th>\n",
       "      <th>Name</th>\n",
       "      <th>Datetime</th>\n",
       "      <th>Loan_Status</th>\n",
       "      <th>Date_time</th>\n",
       "    </tr>\n",
       "  </thead>\n",
       "  <tbody>\n",
       "    <tr>\n",
       "      <th>0</th>\n",
       "      <td>LP001002</td>\n",
       "      <td>Female</td>\n",
       "      <td>No</td>\n",
       "      <td>0</td>\n",
       "      <td>Graduate</td>\n",
       "      <td>City</td>\n",
       "      <td>39</td>\n",
       "      <td>14110-AED</td>\n",
       "      <td>25000</td>\n",
       "      <td>Mr.Abraham</td>\n",
       "      <td>2013-02-21 06:35:45.658505</td>\n",
       "      <td>Y</td>\n",
       "      <td>2013-02-21 06:35:45.658505</td>\n",
       "    </tr>\n",
       "    <tr>\n",
       "      <th>1</th>\n",
       "      <td>LP001003</td>\n",
       "      <td>Male</td>\n",
       "      <td>Yes</td>\n",
       "      <td>1</td>\n",
       "      <td>Graduate</td>\n",
       "      <td>City</td>\n",
       "      <td>50</td>\n",
       "      <td>12117-DEF</td>\n",
       "      <td>50000</td>\n",
       "      <td>Mrs.Kayal</td>\n",
       "      <td>2013-02-21 06:35:45.659381</td>\n",
       "      <td>N</td>\n",
       "      <td>2013-02-21 06:35:45.659381</td>\n",
       "    </tr>\n",
       "    <tr>\n",
       "      <th>2</th>\n",
       "      <td>LP001005</td>\n",
       "      <td>NaN</td>\n",
       "      <td>NaN</td>\n",
       "      <td>NaN</td>\n",
       "      <td>NaN</td>\n",
       "      <td>NaN</td>\n",
       "      <td>38</td>\n",
       "      <td>GHI-13415</td>\n",
       "      <td>60000</td>\n",
       "      <td>Mr.Lincoln</td>\n",
       "      <td>2013-02-21 11:35:45.659396</td>\n",
       "      <td>Y</td>\n",
       "      <td>2013-02-21 11:35:45.659396</td>\n",
       "    </tr>\n",
       "    <tr>\n",
       "      <th>3</th>\n",
       "      <td>LP001006</td>\n",
       "      <td>Female</td>\n",
       "      <td>Yes</td>\n",
       "      <td>0</td>\n",
       "      <td>Not Graduate</td>\n",
       "      <td>Village</td>\n",
       "      <td>43</td>\n",
       "      <td>TQR-14561</td>\n",
       "      <td>25000</td>\n",
       "      <td>Mrs.MSR</td>\n",
       "      <td>2013-02-21 11:35:45.659396</td>\n",
       "      <td>Y</td>\n",
       "      <td>2013-02-21 11:35:45.659396</td>\n",
       "    </tr>\n",
       "    <tr>\n",
       "      <th>4</th>\n",
       "      <td>LP001008</td>\n",
       "      <td>Male</td>\n",
       "      <td>No</td>\n",
       "      <td>0</td>\n",
       "      <td>Graduate</td>\n",
       "      <td>City</td>\n",
       "      <td>29</td>\n",
       "      <td>EFG-13211</td>\n",
       "      <td>80000</td>\n",
       "      <td>Mr.Vinay</td>\n",
       "      <td>2013-02-21 06:35:45.658505</td>\n",
       "      <td>Y</td>\n",
       "      <td>2013-02-21 06:35:45.658505</td>\n",
       "    </tr>\n",
       "  </tbody>\n",
       "</table>\n",
       "</div>"
      ],
      "text/plain": [
       "    Loan_ID  Gender Married Dependents     Education Property_Area  Age  \\\n",
       "0  LP001002  Female      No          0      Graduate          City   39   \n",
       "1  LP001003    Male     Yes          1      Graduate          City   50   \n",
       "2  LP001005     NaN     NaN        NaN           NaN           NaN   38   \n",
       "3  LP001006  Female     Yes          0  Not Graduate       Village   43   \n",
       "4  LP001008    Male      No          0      Graduate          City   29   \n",
       "\n",
       "  ApplicationID  Loan_Amount        Name                    Datetime  \\\n",
       "0     14110-AED        25000  Mr.Abraham  2013-02-21 06:35:45.658505   \n",
       "1     12117-DEF        50000   Mrs.Kayal  2013-02-21 06:35:45.659381   \n",
       "2     GHI-13415        60000  Mr.Lincoln  2013-02-21 11:35:45.659396   \n",
       "3     TQR-14561        25000     Mrs.MSR  2013-02-21 11:35:45.659396   \n",
       "4     EFG-13211        80000    Mr.Vinay  2013-02-21 06:35:45.658505   \n",
       "\n",
       "  Loan_Status                  Date_time  \n",
       "0           Y 2013-02-21 06:35:45.658505  \n",
       "1           N 2013-02-21 06:35:45.659381  \n",
       "2           Y 2013-02-21 11:35:45.659396  \n",
       "3           Y 2013-02-21 11:35:45.659396  \n",
       "4           Y 2013-02-21 06:35:45.658505  "
      ]
     },
     "execution_count": 21,
     "metadata": {},
     "output_type": "execute_result"
    }
   ],
   "source": [
    "Test.head()"
   ]
  },
  {
   "cell_type": "code",
   "execution_count": 22,
   "metadata": {
    "collapsed": false
   },
   "outputs": [
    {
     "data": {
      "text/plain": [
       "Loan_ID                  object\n",
       "Gender                   object\n",
       "Married                  object\n",
       "Dependents             category\n",
       "Education                object\n",
       "Property_Area            object\n",
       "Age                       int64\n",
       "ApplicationID            object\n",
       "Loan_Amount             float64\n",
       "Name                     object\n",
       "Datetime                 object\n",
       "Loan_Status              object\n",
       "Date_time        datetime64[ns]\n",
       "dtype: object"
      ]
     },
     "execution_count": 22,
     "metadata": {},
     "output_type": "execute_result"
    }
   ],
   "source": [
    "Test.dtypes"
   ]
  },
  {
   "cell_type": "code",
   "execution_count": 23,
   "metadata": {
    "collapsed": false
   },
   "outputs": [],
   "source": [
    "#Difference between the date available and today's date\n",
    "Test['Days']=pd.datetime.now() - Test.Date_time"
   ]
  },
  {
   "cell_type": "code",
   "execution_count": 24,
   "metadata": {
    "collapsed": false
   },
   "outputs": [
    {
     "data": {
      "text/html": [
       "<div>\n",
       "<table border=\"1\" class=\"dataframe\">\n",
       "  <thead>\n",
       "    <tr style=\"text-align: right;\">\n",
       "      <th></th>\n",
       "      <th>Loan_ID</th>\n",
       "      <th>Gender</th>\n",
       "      <th>Married</th>\n",
       "      <th>Dependents</th>\n",
       "      <th>Education</th>\n",
       "      <th>Property_Area</th>\n",
       "      <th>Age</th>\n",
       "      <th>ApplicationID</th>\n",
       "      <th>Loan_Amount</th>\n",
       "      <th>Name</th>\n",
       "      <th>Datetime</th>\n",
       "      <th>Loan_Status</th>\n",
       "      <th>Date_time</th>\n",
       "      <th>Days</th>\n",
       "    </tr>\n",
       "  </thead>\n",
       "  <tbody>\n",
       "    <tr>\n",
       "      <th>0</th>\n",
       "      <td>LP001002</td>\n",
       "      <td>Female</td>\n",
       "      <td>No</td>\n",
       "      <td>0</td>\n",
       "      <td>Graduate</td>\n",
       "      <td>City</td>\n",
       "      <td>39</td>\n",
       "      <td>14110-AED</td>\n",
       "      <td>25000</td>\n",
       "      <td>Mr.Abraham</td>\n",
       "      <td>2013-02-21 06:35:45.658505</td>\n",
       "      <td>Y</td>\n",
       "      <td>2013-02-21 06:35:45.658505</td>\n",
       "      <td>1328 days 07:47:50.994493</td>\n",
       "    </tr>\n",
       "    <tr>\n",
       "      <th>1</th>\n",
       "      <td>LP001003</td>\n",
       "      <td>Male</td>\n",
       "      <td>Yes</td>\n",
       "      <td>1</td>\n",
       "      <td>Graduate</td>\n",
       "      <td>City</td>\n",
       "      <td>50</td>\n",
       "      <td>12117-DEF</td>\n",
       "      <td>50000</td>\n",
       "      <td>Mrs.Kayal</td>\n",
       "      <td>2013-02-21 06:35:45.659381</td>\n",
       "      <td>N</td>\n",
       "      <td>2013-02-21 06:35:45.659381</td>\n",
       "      <td>1328 days 07:47:50.993617</td>\n",
       "    </tr>\n",
       "    <tr>\n",
       "      <th>2</th>\n",
       "      <td>LP001005</td>\n",
       "      <td>NaN</td>\n",
       "      <td>NaN</td>\n",
       "      <td>NaN</td>\n",
       "      <td>NaN</td>\n",
       "      <td>NaN</td>\n",
       "      <td>38</td>\n",
       "      <td>GHI-13415</td>\n",
       "      <td>60000</td>\n",
       "      <td>Mr.Lincoln</td>\n",
       "      <td>2013-02-21 11:35:45.659396</td>\n",
       "      <td>Y</td>\n",
       "      <td>2013-02-21 11:35:45.659396</td>\n",
       "      <td>1328 days 02:47:50.993602</td>\n",
       "    </tr>\n",
       "    <tr>\n",
       "      <th>3</th>\n",
       "      <td>LP001006</td>\n",
       "      <td>Female</td>\n",
       "      <td>Yes</td>\n",
       "      <td>0</td>\n",
       "      <td>Not Graduate</td>\n",
       "      <td>Village</td>\n",
       "      <td>43</td>\n",
       "      <td>TQR-14561</td>\n",
       "      <td>25000</td>\n",
       "      <td>Mrs.MSR</td>\n",
       "      <td>2013-02-21 11:35:45.659396</td>\n",
       "      <td>Y</td>\n",
       "      <td>2013-02-21 11:35:45.659396</td>\n",
       "      <td>1328 days 02:47:50.993602</td>\n",
       "    </tr>\n",
       "    <tr>\n",
       "      <th>4</th>\n",
       "      <td>LP001008</td>\n",
       "      <td>Male</td>\n",
       "      <td>No</td>\n",
       "      <td>0</td>\n",
       "      <td>Graduate</td>\n",
       "      <td>City</td>\n",
       "      <td>29</td>\n",
       "      <td>EFG-13211</td>\n",
       "      <td>80000</td>\n",
       "      <td>Mr.Vinay</td>\n",
       "      <td>2013-02-21 06:35:45.658505</td>\n",
       "      <td>Y</td>\n",
       "      <td>2013-02-21 06:35:45.658505</td>\n",
       "      <td>1328 days 07:47:50.994493</td>\n",
       "    </tr>\n",
       "  </tbody>\n",
       "</table>\n",
       "</div>"
      ],
      "text/plain": [
       "    Loan_ID  Gender Married Dependents     Education Property_Area  Age  \\\n",
       "0  LP001002  Female      No          0      Graduate          City   39   \n",
       "1  LP001003    Male     Yes          1      Graduate          City   50   \n",
       "2  LP001005     NaN     NaN        NaN           NaN           NaN   38   \n",
       "3  LP001006  Female     Yes          0  Not Graduate       Village   43   \n",
       "4  LP001008    Male      No          0      Graduate          City   29   \n",
       "\n",
       "  ApplicationID  Loan_Amount        Name                    Datetime  \\\n",
       "0     14110-AED        25000  Mr.Abraham  2013-02-21 06:35:45.658505   \n",
       "1     12117-DEF        50000   Mrs.Kayal  2013-02-21 06:35:45.659381   \n",
       "2     GHI-13415        60000  Mr.Lincoln  2013-02-21 11:35:45.659396   \n",
       "3     TQR-14561        25000     Mrs.MSR  2013-02-21 11:35:45.659396   \n",
       "4     EFG-13211        80000    Mr.Vinay  2013-02-21 06:35:45.658505   \n",
       "\n",
       "  Loan_Status                  Date_time                      Days  \n",
       "0           Y 2013-02-21 06:35:45.658505 1328 days 07:47:50.994493  \n",
       "1           N 2013-02-21 06:35:45.659381 1328 days 07:47:50.993617  \n",
       "2           Y 2013-02-21 11:35:45.659396 1328 days 02:47:50.993602  \n",
       "3           Y 2013-02-21 11:35:45.659396 1328 days 02:47:50.993602  \n",
       "4           Y 2013-02-21 06:35:45.658505 1328 days 07:47:50.994493  "
      ]
     },
     "execution_count": 24,
     "metadata": {},
     "output_type": "execute_result"
    }
   ],
   "source": [
    "Test.head()"
   ]
  },
  {
   "cell_type": "code",
   "execution_count": 25,
   "metadata": {
    "collapsed": false
   },
   "outputs": [
    {
     "name": "stdout",
     "output_type": "stream",
     "text": [
      "['tom_42@gmail.com']\n"
     ]
    }
   ],
   "source": [
    "# Find email in the string\n",
    "import re\n",
    "string = \"his email address is mailto:tom_42@gmail.com please mail him the documents\"\n",
    "match=re.findall(r\"[\\w._]+@[\\w.]+\",string)\n",
    "print match"
   ]
  },
  {
   "cell_type": "code",
   "execution_count": 26,
   "metadata": {
    "collapsed": false
   },
   "outputs": [
    {
     "data": {
      "text/plain": [
       "Sex\n",
       "Female     9592\n",
       "Male      15128\n",
       "dtype: int64"
      ]
     },
     "execution_count": 26,
     "metadata": {},
     "output_type": "execute_result"
    }
   ],
   "source": [
    "# Group data by Gender where Income <=50K\n",
    "Train.groupby(['Income.Group','Sex']).size().loc['<=50K']"
   ]
  }
 ],
 "metadata": {
  "kernelspec": {
   "display_name": "Python 2",
   "language": "python",
   "name": "python2"
  },
  "language_info": {
   "codemirror_mode": {
    "name": "ipython",
    "version": 2
   },
   "file_extension": ".py",
   "mimetype": "text/x-python",
   "name": "python",
   "nbconvert_exporter": "python",
   "pygments_lexer": "ipython2",
   "version": "2.7.10"
  }
 },
 "nbformat": 4,
 "nbformat_minor": 0
}
